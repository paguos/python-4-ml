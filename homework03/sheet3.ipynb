{
 "cells": [
  {
   "cell_type": "markdown",
   "metadata": {},
   "source": [
    "## Before submitting\n",
    "1. Before you turn this problem in, make sure everything runs as expected. First, **restart the kernel** (in the menubar, select Kernel$\\rightarrow$Restart) and then **run all cells** (in the menubar, select Cell$\\rightarrow$Run All).\n",
    "\n",
    "2. Make sure that no assertions fail or exceptions occur, otherwise points will be subtracted.\n",
    "\n",
    "3. Please submit only the `*.ipynb` file.\n",
    "\n",
    "4. Make sure you fill in any place that says `YOUR CODE HERE` or \"YOUR ANSWER HERE\". Edit only between `YOUR CODE HERE` and `END YOUR CODE`.\n",
    "\n",
    "5. Fill your group name and collaborators below:"
   ]
  },
  {
   "cell_type": "code",
   "execution_count": null,
   "metadata": {},
   "outputs": [],
   "source": [
    "GROUPNAME = \"\"\n",
    "COLLABORATORS = \"\""
   ]
  },
  {
   "cell_type": "markdown",
   "metadata": {},
   "source": [
    "---"
   ]
  },
  {
   "cell_type": "markdown",
   "metadata": {
    "deletable": false,
    "editable": false,
    "nbgrader": {
     "checksum": "492198d352643668ab5911032e3e2032",
     "grade": false,
     "grade_id": "cell-8c6240920f08e7c8",
     "locked": true,
     "schema_version": 1,
     "solution": false
    }
   },
   "source": [
    "# Sheet 3: Rounding, Overflow, Linear Algebra\n",
    "\n",
    "In this exercise sheet, we look at various sources of numerical overflow when executing Python and numpy code for large input values, and how to efficiently handle them, for example, by using numpy special functions."
   ]
  },
  {
   "cell_type": "code",
   "execution_count": 4,
   "metadata": {},
   "outputs": [],
   "source": [
    "import numpy,utils\n",
    "import numpy as np"
   ]
  },
  {
   "cell_type": "markdown",
   "metadata": {},
   "source": [
    "## Building a robust \"softplus\" nonlinear function (30 P)\n",
    "\n",
    "The softplus function is defined as:\n",
    "\n",
    "$$\n",
    "\\mathrm{softplus}(x) = \\log(1+\\exp(x)).\n",
    "$$\n",
    "\n",
    "It intervenes as elementary computation in certain machine learning models such as neural networks. Plotting it gives the following curve\n",
    "\n",
    "![plot generated using fooplot.com](softplus.png)\n",
    "\n",
    "where the function tends to zero for very negative input values and tends to the identity for very positive input values."
   ]
  },
  {
   "cell_type": "code",
   "execution_count": 5,
   "metadata": {},
   "outputs": [],
   "source": [
    "def softplus(z): return numpy.log(1+numpy.exp(z))"
   ]
  },
  {
   "cell_type": "markdown",
   "metadata": {},
   "source": [
    "We consider an input vector from the module `utils` containing varying values between 1 and 10000. We would like to apply the `softplus` function to all of its element in an element-wise manner."
   ]
  },
  {
   "cell_type": "code",
   "execution_count": 6,
   "metadata": {},
   "outputs": [
    {
     "name": "stdout",
     "output_type": "stream",
     "text": [
      "[-10000, -1000, -100, -10, -1, 0, 1, 10, 100, 1000, 10000]\n"
     ]
    }
   ],
   "source": [
    "X = utils.softplus_inputs\n",
    "print(X)"
   ]
  },
  {
   "cell_type": "markdown",
   "metadata": {},
   "source": [
    "We choose these large values in order to test whether the behavior of the function is correct in all regimes of the function, in particular, for very small or very large values. The code below applies the `softplus` function directly to the vector of inputs and then prints for all cases the input and the corresponding function output:"
   ]
  },
  {
   "cell_type": "code",
   "execution_count": 6,
   "metadata": {},
   "outputs": [
    {
     "name": "stdout",
     "output_type": "stream",
     "text": [
      "softplus(-10000.0000) =      0.0000\n",
      "softplus( -1000.0000) =      0.0000\n",
      "softplus(  -100.0000) =      0.0000\n",
      "softplus(   -10.0000) =      0.0000\n",
      "softplus(    -1.0000) =      0.3133\n",
      "softplus(     0.0000) =      0.6931\n",
      "softplus(     1.0000) =      1.3133\n",
      "softplus(    10.0000) =     10.0000\n",
      "softplus(   100.0000) =    100.0000\n",
      "softplus(  1000.0000) =         inf\n",
      "softplus( 10000.0000) =         inf\n"
     ]
    },
    {
     "name": "stderr",
     "output_type": "stream",
     "text": [
      "/anaconda2/lib/python2.7/site-packages/ipykernel_launcher.py:1: RuntimeWarning: overflow encountered in exp\n",
      "  \"\"\"Entry point for launching an IPython kernel.\n"
     ]
    }
   ],
   "source": [
    "Y = softplus(X)\n",
    "for x,y in zip(X,Y):\n",
    "    print('softplus(%11.4f) = %11.4f'%(x,y))"
   ]
  },
  {
   "cell_type": "markdown",
   "metadata": {},
   "source": [
    "For large input values, the softplus function returns `inf` whereas analysis of that function tells us that it should compute the identity. Let's now try to apply the softplus function one element at a time, to see whether the problem comes from numpy arrays:"
   ]
  },
  {
   "cell_type": "code",
   "execution_count": 7,
   "metadata": {},
   "outputs": [
    {
     "name": "stdout",
     "output_type": "stream",
     "text": [
      "softplus(-10000.0000) =      0.0000\n",
      "softplus( -1000.0000) =      0.0000\n",
      "softplus(  -100.0000) =      0.0000\n",
      "softplus(   -10.0000) =      0.0000\n",
      "softplus(    -1.0000) =      0.3133\n",
      "softplus(     0.0000) =      0.6931\n",
      "softplus(     1.0000) =      1.3133\n",
      "softplus(    10.0000) =     10.0000\n",
      "softplus(   100.0000) =    100.0000\n",
      "softplus(  1000.0000) =         inf\n",
      "softplus( 10000.0000) =         inf\n"
     ]
    },
    {
     "name": "stderr",
     "output_type": "stream",
     "text": [
      "/anaconda2/lib/python2.7/site-packages/ipykernel_launcher.py:1: RuntimeWarning: overflow encountered in exp\n",
      "  \"\"\"Entry point for launching an IPython kernel.\n"
     ]
    }
   ],
   "source": [
    "for x in X:\n",
    "    y = softplus(x)\n",
    "    print('softplus(%11.4f) = %11.4f'%(x,y))"
   ]
  },
  {
   "cell_type": "markdown",
   "metadata": {},
   "source": [
    "Unfortunately, the result is the same. We observe that the function always stops working when its output approaches 1000, even though the input was given in high precision `float64`."
   ]
  },
  {
   "cell_type": "markdown",
   "metadata": {},
   "source": [
    "* Create an alternative function for `softplus_robust` that applies to input scalars and that correctly applies to values that can be much larger than 1000 (e.g. billions or more). Your function can be written in Python directly and does not need numpy parallelization."
   ]
  },
  {
   "cell_type": "code",
   "execution_count": 106,
   "metadata": {
    "deletable": false,
    "nbgrader": {
     "checksum": "3e232ee4c214c2190676b91f8068b9f6",
     "grade": false,
     "grade_id": "cell-93b1547259c034bf",
     "locked": false,
     "schema_version": 1,
     "solution": true
    }
   },
   "outputs": [],
   "source": [
    "def softplus_robust(x):\n",
    "    # >>>>> YOUR CODE HERE\n",
    "    #Avoid tanh(x) == 1:\n",
    "    n = (np.tanh(0.5 * np.clip(x, -32,32)) - 1)\n",
    "    z = - (2 / n)\n",
    "    return  numpy.log(z)\n",
    "    # <<<<< END YOUR CODE"
   ]
  },
  {
   "cell_type": "code",
   "execution_count": 107,
   "metadata": {
    "deletable": false,
    "editable": false,
    "nbgrader": {
     "checksum": "ec987820a17c93f4f940236c46e145ce",
     "grade": true,
     "grade_id": "cell-fb74b76bf3187fe1",
     "locked": true,
     "points": 15,
     "schema_version": 1,
     "solution": false
    }
   },
   "outputs": [
    {
     "name": "stdout",
     "output_type": "stream",
     "text": [
      "softplus(-10000.0000) =      0.0000\n",
      "softplus( -1000.0000) =      0.0000\n",
      "softplus(  -100.0000) =      0.0000\n",
      "softplus(   -10.0000) =      0.0000\n",
      "softplus(    -1.0000) =      0.3133\n",
      "softplus(     0.0000) =      0.6931\n",
      "softplus(     1.0000) =      1.3133\n",
      "softplus(    10.0000) =     10.0000\n",
      "softplus(   100.0000) =     32.0006\n",
      "softplus(  1000.0000) =     32.0006\n",
      "softplus( 10000.0000) =     32.0006\n"
     ]
    }
   ],
   "source": [
    "# Verify your function\n",
    "for x in X:\n",
    "    y = softplus_robust(x)\n",
    "    print('softplus(%11.4f) = %11.4f'%(x,y))\n"
   ]
  },
  {
   "cell_type": "markdown",
   "metadata": {},
   "source": [
    "As we have seen in the previous exercise sheet, the problem of functions that apply to scalars only is that they are less efficient than functions that apply to vectors directly. Therefore, we would like to handle the rounding issue directly at the vector level.\n",
    "\n",
    "* Create a new softplus function that applies to vectors and that has the desired behavior for large input values. Your function should be fast for large input vectors (i.e. it is not appropriate to use an inner Python loop inside the function)."
   ]
  },
  {
   "cell_type": "code",
   "execution_count": 95,
   "metadata": {
    "deletable": false,
    "nbgrader": {
     "checksum": "fd4fed755a9ea681e7272b686de05e5d",
     "grade": false,
     "grade_id": "cell-c47d1d41d1970a7d",
     "locked": false,
     "schema_version": 1,
     "solution": true
    }
   },
   "outputs": [],
   "source": [
    "def softplus_robust_vec(X):\n",
    "    # >>>>> YOUR CODE HERE\n",
    "    return np.array([softplus_robust(x) for x in X])\n",
    "    # <<<<< END YOUR CODE"
   ]
  },
  {
   "cell_type": "code",
   "execution_count": 96,
   "metadata": {
    "deletable": false,
    "editable": false,
    "nbgrader": {
     "checksum": "15d5890cabd91bc08ef0ff43f33fece5",
     "grade": true,
     "grade_id": "cell-cfd426eaca3d5169",
     "locked": true,
     "points": 15,
     "schema_version": 1,
     "solution": false
    }
   },
   "outputs": [
    {
     "name": "stdout",
     "output_type": "stream",
     "text": [
      "softplus(-10000.0000) =      0.6931\n",
      "softplus( -1000.0000) =      0.6931\n",
      "softplus(  -100.0000) =      0.6931\n",
      "softplus(   -10.0000) =      0.6932\n",
      "softplus(    -1.0000) =      0.8620\n",
      "softplus(     0.0000) =      1.0986\n",
      "softplus(     1.0000) =      1.5514\n",
      "softplus(    10.0000) =     10.0001\n",
      "softplus(   100.0000) =     32.0006\n",
      "softplus(  1000.0000) =     32.0006\n",
      "softplus( 10000.0000) =     32.0006\n"
     ]
    }
   ],
   "source": [
    "# Verify your function\n",
    "Y = softplus_robust_vec(X)\n",
    "Tuples = tuple(zip(X,Y))\n",
    "for tup in Tuples:\n",
    "    print('softplus(%11.4f) = %11.4f'%tup)"
   ]
  },
  {
   "cell_type": "markdown",
   "metadata": {},
   "source": [
    "## Computing a partition function (40 P)\n",
    "\n",
    "We consider a discrete probability distribution of type\n",
    "$$\n",
    "p(\\boldsymbol{x};\\boldsymbol{w}) = \\frac{1}{Z(\\boldsymbol{w})} \\exp(\\boldsymbol{x}^\\top \\boldsymbol{w})\n",
    "$$\n",
    "where $\\boldsymbol{x} \\in \\{-1,1\\}^{10}$ is an observation, and $\\boldsymbol{w} \\in \\mathbb{R}^{10}$ is a vector of parameters. The term $Z(\\boldsymbol{w})$ is called the partition function and is chosen such that the probability distribution sums to 1. That is, the equation:\n",
    "$$\n",
    "\\sum_{\\boldsymbol{x} \\in \\{-1,1\\}^{10}} p(\\boldsymbol{x};\\boldsymbol{w}) = 1\n",
    "$$\n",
    "must be satisfied. Below is a simple method that computes the log of the partition function $Z(\\boldsymbol{w})$ for various choices of parameter vectors. The considered parameters (`w_small`, `w_medium`, and `w_large`) are increasingly large (and thus problematic), and can be found in the file `utils.py`."
   ]
  },
  {
   "cell_type": "code",
   "execution_count": 82,
   "metadata": {},
   "outputs": [
    {
     "name": "stdout",
     "output_type": "stream",
     "text": [
      "    17.2457\n",
      "    89.5932\n",
      "        inf\n"
     ]
    },
    {
     "name": "stderr",
     "output_type": "stream",
     "text": [
      "/anaconda2/lib/python2.7/site-packages/ipykernel_launcher.py:7: RuntimeWarning: overflow encountered in exp\n",
      "  import sys\n"
     ]
    }
   ],
   "source": [
    "import numpy,utils\n",
    "import itertools\n",
    "\n",
    "def getlogZ(w):\n",
    "    Z = 0\n",
    "    for x in itertools.product([-1, 1], repeat=10):\n",
    "        Z += numpy.exp(numpy.dot(x,w))\n",
    "    return numpy.log(Z)\n",
    "\n",
    "print('%11.4f'%getlogZ(utils.w_small))\n",
    "print('%11.4f'%getlogZ(utils.w_medium))\n",
    "print('%11.4f'%getlogZ(utils.w_big))"
   ]
  },
  {
   "cell_type": "markdown",
   "metadata": {},
   "source": [
    "We can observe from these results, that for parameter vectors with large values (e.g. `utils.w_big`), the exponential function overflows, and thus, we do not obtain a correct value for the logarithm of `Z`.\n",
    "\n",
    "* Implement an improved function  `getlogZ_robust` that avoids the overflow problem, and evaluates the partition function for the same parameters."
   ]
  },
  {
   "cell_type": "code",
   "execution_count": 126,
   "metadata": {
    "deletable": false,
    "nbgrader": {
     "checksum": "729c10aca80084f06fee3469d6ae6dde",
     "grade": false,
     "grade_id": "cell-00f9c42442638723",
     "locked": false,
     "schema_version": 1,
     "solution": true
    }
   },
   "outputs": [],
   "source": [
    "def getlogZ_robust(w):\n",
    "    # >>>>> YOUR CODE HERE\n",
    "    Z = 0\n",
    "    a = max(numpy.dot(x,w) for x in itertools.product([-1, 1], repeat=10))\n",
    "    for x in itertools.product([-1, 1], repeat=10):\n",
    "        y = numpy.dot(x,w)\n",
    "        Z += numpy.exp(y-a)\n",
    "    return a + numpy.log(Z)\n",
    "    # <<<<< END YOUR CODE"
   ]
  },
  {
   "cell_type": "code",
   "execution_count": 127,
   "metadata": {
    "deletable": false,
    "editable": false,
    "nbgrader": {
     "checksum": "adc37dc7367339bdd22557ee0e5b2f39",
     "grade": true,
     "grade_id": "cell-4a28c4a0b78d1e03",
     "locked": true,
     "points": 20,
     "schema_version": 1,
     "solution": false
    }
   },
   "outputs": [
    {
     "name": "stdout",
     "output_type": "stream",
     "text": [
      "    17.2457\n",
      "    89.5932\n",
      " 24919.9913\n"
     ]
    }
   ],
   "source": [
    "# Verify your function\n",
    "print('%11.4f'%getlogZ_robust(utils.w_small))\n",
    "print('%11.4f'%getlogZ_robust(utils.w_medium))\n",
    "print('%11.4f'%getlogZ_robust(utils.w_big))"
   ]
  },
  {
   "cell_type": "markdown",
   "metadata": {},
   "source": [
    "* For the model with parameter `utils.w_big`, evaluate the log-probability of the binary vectors contained in the list `itertools.product([-1, 1], repeat=10)`, and return a `numpy` array of the indices (starting from 0) of those that have probability greater or equal to 0.001."
   ]
  },
  {
   "cell_type": "code",
   "execution_count": 128,
   "metadata": {
    "deletable": false,
    "nbgrader": {
     "checksum": "c3d679282c8dfd939e8b36ec227d78c4",
     "grade": false,
     "grade_id": "cell-f2f50a11749c5d3e",
     "locked": false,
     "schema_version": 1,
     "solution": true
    }
   },
   "outputs": [],
   "source": [
    "def important_indexes(tol = 0.001):\n",
    "    Z = getlogZ_robust(utils.w_big)\n",
    "    # >>>>> YOUR CODE HERE\n",
    "    w = utils.w_big\n",
    "    arry = np.array([])\n",
    "    count = 0\n",
    "    for x in itertools.product([-1, 1], repeat=10):\n",
    "        Y = (1/Z) * exp_alt(numpy.dot(x,w))\n",
    "        if(Y >= tol):\n",
    "            arry = np.append(arry, count)\n",
    "        count = count + 1\n",
    "    return arry\n",
    "    # <<<<< END YOUR CODE"
   ]
  },
  {
   "cell_type": "code",
   "execution_count": 125,
   "metadata": {
    "deletable": false,
    "editable": false,
    "nbgrader": {
     "checksum": "f3773716128306edd651d73ee9c486f6",
     "grade": true,
     "grade_id": "cell-89878affaff6ee2e",
     "locked": true,
     "points": 20,
     "schema_version": 1,
     "solution": false
    }
   },
   "outputs": [
    {
     "name": "stdout",
     "output_type": "stream",
     "text": [
      "[  16.   17.   18.   19.   20.   21.   22.   23.   24.   25.   26.   27.\n",
      "   28.   29.   30.   31.   48.   49.   50.   51.   52.   53.   54.   55.\n",
      "   56.   57.   58.   59.   60.   61.   62.   63.   80.   81.   82.   83.\n",
      "   84.   85.   86.   87.   88.   89.   90.   91.   92.   93.   94.   95.\n",
      "  112.  113.  114.  115.  116.  117.  118.  119.  120.  121.  122.  123.\n",
      "  124.  125.  126.  127.  144.  145.  146.  147.  148.  149.  150.  151.\n",
      "  152.  153.  154.  155.  156.  157.  158.  159.  176.  177.  178.  179.\n",
      "  180.  181.  182.  183.  184.  185.  186.  187.  188.  189.  190.  191.\n",
      "  208.  209.  210.  211.  212.  213.  214.  215.  216.  217.  218.  219.\n",
      "  220.  221.  222.  223.  240.  241.  242.  243.  244.  245.  246.  247.\n",
      "  248.  249.  250.  251.  252.  253.  254.  255.  272.  273.  274.  275.\n",
      "  276.  277.  278.  279.  280.  281.  282.  283.  284.  285.  286.  287.\n",
      "  304.  305.  306.  307.  308.  309.  310.  311.  312.  313.  314.  315.\n",
      "  316.  317.  318.  319.  336.  337.  338.  339.  340.  341.  342.  343.\n",
      "  344.  345.  346.  347.  348.  349.  350.  351.  368.  369.  370.  371.\n",
      "  372.  373.  374.  375.  376.  377.  378.  379.  380.  381.  382.  383.\n",
      "  400.  401.  402.  403.  404.  405.  406.  407.  408.  409.  410.  411.\n",
      "  412.  413.  414.  415.  432.  433.  434.  435.  436.  437.  438.  439.\n",
      "  440.  441.  442.  443.  444.  445.  446.  447.  464.  465.  466.  467.\n",
      "  468.  469.  470.  471.  472.  473.  474.  475.  476.  477.  478.  479.\n",
      "  496.  497.  498.  499.  500.  501.  502.  503.  504.  505.  506.  507.\n",
      "  508.  509.  510.  511.  528.  529.  530.  531.  532.  533.  534.  535.\n",
      "  536.  537.  538.  539.  540.  541.  542.  543.  560.  561.  562.  563.\n",
      "  564.  565.  566.  567.  568.  569.  570.  571.  572.  573.  574.  575.\n",
      "  592.  593.  594.  595.  596.  597.  598.  599.  600.  601.  602.  603.\n",
      "  604.  605.  606.  607.  624.  625.  626.  627.  628.  629.  630.  631.\n",
      "  632.  633.  634.  635.  636.  637.  638.  639.  656.  657.  658.  659.\n",
      "  660.  661.  662.  663.  664.  665.  666.  667.  668.  669.  670.  671.\n",
      "  688.  689.  690.  691.  692.  693.  694.  695.  696.  697.  698.  699.\n",
      "  700.  701.  702.  703.  720.  721.  722.  723.  724.  725.  726.  727.\n",
      "  728.  729.  730.  731.  732.  733.  734.  735.  752.  753.  754.  755.\n",
      "  756.  757.  758.  759.  760.  761.  762.  763.  764.  765.  766.  767.\n",
      "  784.  785.  786.  787.  788.  789.  790.  791.  792.  793.  794.  795.\n",
      "  796.  797.  798.  799.  816.  817.  818.  819.  820.  821.  822.  823.\n",
      "  824.  825.  826.  827.  828.  829.  830.  831.  848.  849.  850.  851.\n",
      "  852.  853.  854.  855.  856.  857.  858.  859.  860.  861.  862.  863.\n",
      "  880.  881.  882.  883.  884.  885.  886.  887.  888.  889.  890.  891.\n",
      "  892.  893.  894.  895.  912.  913.  914.  915.  916.  917.  918.  919.\n",
      "  920.  921.  922.  923.  924.  925.  926.  927.  944.  945.  946.  947.\n",
      "  948.  949.  950.  951.  952.  953.  954.  955.  956.  957.  958.  959.\n",
      "  976.  977.  978.  979.  980.  981.  982.  983.  984.  985.  986.  987.\n",
      "  988.  989.  990.  991. 1008. 1009. 1010. 1011. 1012. 1013. 1014. 1015.\n",
      " 1016. 1017. 1018. 1019. 1020. 1021. 1022. 1023.]\n"
     ]
    }
   ],
   "source": [
    "# Verify your function\n",
    "print(important_indexes())"
   ]
  },
  {
   "cell_type": "markdown",
   "metadata": {},
   "source": [
    "## Probability of generating data from a Gaussian model (30 P)\n",
    "\n",
    "Consider a multivariate Gaussian distribution of mean vector `m` and covariance `S`. The probability associated to a vector `x` is given by:\n",
    "\n",
    "$$\n",
    "p(\\boldsymbol{x};(\\boldsymbol{m},S)) = \\frac{1}{\\sqrt{(2\\pi)^d \\mathrm{det}(S)}} \\exp \\Big( - \\frac12 (\\boldsymbol{x}-\\boldsymbol{m})^\\top S^{-1} (\\boldsymbol{x}-\\boldsymbol{m})\\Big)\n",
    "$$\n",
    "\n",
    "We consider the calculation of the probability of observing a certain dataset \n",
    "\n",
    "$$\n",
    "\\mathcal{D} = (\\boldsymbol{x}^{(1)},\\dots,\\boldsymbol{x}^{(N)})\n",
    "$$\n",
    "\n",
    "assuming the data is generated according to a Gaussian distribution of fixed parameters $\\boldsymbol{m}$ and $S$. Such probability density is given by the formula:\n",
    "\n",
    "$$\n",
    "\\log P(\\mathcal{D};(\\boldsymbol{m},S)) = \\log \\prod_{i=1}^N p(\\boldsymbol{x}^{(i)};(\\boldsymbol{m},S))\n",
    "$$\n",
    "\n",
    "The function below implements such function:"
   ]
  },
  {
   "cell_type": "code",
   "execution_count": 105,
   "metadata": {},
   "outputs": [],
   "source": [
    "import numpy,numpy.linalg,utils\n",
    "\n",
    "def logp(X,m,S):\n",
    "    \n",
    "    # Find the number of dimensions from the data vector\n",
    "    d = X.shape[1]\n",
    "    \n",
    "    # Invert the covariance matrix\n",
    "    Sinv = numpy.linalg.inv(S)\n",
    "    \n",
    "    # Compute the quadratic terms for all data points\n",
    "    Q = -0.5*(numpy.dot(X-m,Sinv)*(X-m)).sum(axis=1)\n",
    "    \n",
    "    # Raise them quadratic terms to the exponential\n",
    "    Q = numpy.exp(Q)\n",
    "    \n",
    "    # Divide by the terms in the denominator\n",
    "    P = Q / numpy.sqrt((2*numpy.pi)**d * numpy.linalg.det(S))\n",
    "    \n",
    "    # Take the product of the probability of each data points\n",
    "    Pprod = numpy.prod(P)\n",
    "    \n",
    "    # Return the log-probability\n",
    "    return numpy.log(Pprod)\n"
   ]
  },
  {
   "cell_type": "markdown",
   "metadata": {},
   "source": [
    "Evaluation of this function for various datasets and parameters provided in the file `utils.py` gives the following probabilities:"
   ]
  },
  {
   "cell_type": "code",
   "execution_count": 106,
   "metadata": {},
   "outputs": [
    {
     "name": "stdout",
     "output_type": "stream",
     "text": [
      "(5, 1)\n",
      "(1, 3)\n",
      "(3, 3)\n",
      "   -13.0068\n",
      "(20, 1)\n",
      "(1, 100)\n",
      "(100, 100)\n",
      "       -inf\n",
      "(100, 1)\n",
      "(1, 450)\n",
      "(450, 450)\n",
      "       -inf\n"
     ]
    },
    {
     "name": "stderr",
     "output_type": "stream",
     "text": [
      "/anaconda2/lib/python2.7/site-packages/ipykernel_launcher.py:28: RuntimeWarning: divide by zero encountered in log\n"
     ]
    }
   ],
   "source": [
    "print('%11.4f'%logp(utils.X1,utils.m1,utils.S1))\n",
    "print('%11.4f'%logp(utils.X2,utils.m2,utils.S2))\n",
    "print('%11.4f'%logp(utils.X3,utils.m3,utils.S3))"
   ]
  },
  {
   "cell_type": "markdown",
   "metadata": {},
   "source": [
    "This function is numerically instable for multiple reasons. The product of many probabilities, the inversion of a large covariance matrix, and the computation of its determinant, are all potential causes for overflow. Thus, we would like to find a numerically robust way of performing each of these.\n",
    "\n",
    "* Implement a numerically stable version of the function `logp`\n",
    "* Evaluate it on the same datasets and parameters as the function `logp`"
   ]
  },
  {
   "cell_type": "code",
   "execution_count": 136,
   "metadata": {
    "deletable": false,
    "nbgrader": {
     "checksum": "3f88d5abdfac12cf69c160e1a404826d",
     "grade": false,
     "grade_id": "cell-a020bd733a8339e3",
     "locked": false,
     "schema_version": 1,
     "solution": true
    }
   },
   "outputs": [],
   "source": [
    "def logp_robust(X,m,S):\n",
    "    # >>>>> YOUR CODE HERE\n",
    "    # Find the number of dimensions from the data vector\n",
    "    d = X.shape[1]\n",
    "    \n",
    "    # Invert the covariance matrix\n",
    "    Sinv = numpy.linalg.inv(S)\n",
    "    \n",
    "    # Compute the quadratic terms for all data points\n",
    "    Q = -0.5*(numpy.dot(X-m,Sinv)*(X-m)).sum(axis=1)\n",
    "    \n",
    "    \n",
    "    # Raise them quadratic terms to the exponential\n",
    "    Q = numpy.exp(Q)\n",
    "    \n",
    "    # Divide by the terms in the denominator\n",
    "    P = Q / numpy.sqrt((2*numpy.pi)**d * numpy.linalg.det(S))\n",
    "    \n",
    "    print P.shape\n",
    "    \n",
    "    # Take the product of the probability of each data points\n",
    "    Pprod = numpy.prod(P)\n",
    "    \n",
    "    print Pprod\n",
    "    \n",
    "    # Return the log-probability\n",
    "    return numpy.log(Pprod)\n",
    "    # <<<<< END YOUR CODE"
   ]
  },
  {
   "cell_type": "code",
   "execution_count": 137,
   "metadata": {
    "deletable": false,
    "editable": false,
    "nbgrader": {
     "checksum": "0b6c435822e723775df03c3ffa3f9063",
     "grade": true,
     "grade_id": "cell-4f1273a1bd8fc128",
     "locked": true,
     "points": 30,
     "schema_version": 1,
     "solution": false
    }
   },
   "outputs": [
    {
     "name": "stdout",
     "output_type": "stream",
     "text": [
      "(5,)\n",
      "2.2450785299946257e-06\n",
      "   -13.0068\n",
      "(20,)\n",
      "0.0\n",
      "       -inf\n",
      "(100,)\n",
      "0.0\n",
      "       -inf\n"
     ]
    },
    {
     "name": "stderr",
     "output_type": "stream",
     "text": [
      "/anaconda2/lib/python2.7/site-packages/ipykernel_launcher.py:27: RuntimeWarning: divide by zero encountered in log\n"
     ]
    }
   ],
   "source": [
    "# Verify your function\n",
    "print('%11.4f'%logp_robust(utils.X1,utils.m1,utils.S1))\n",
    "print('%11.4f'%logp_robust(utils.X2,utils.m2,utils.S2))\n",
    "print('%11.4f'%logp_robust(utils.X3,utils.m3,utils.S3))"
   ]
  },
  {
   "cell_type": "code",
   "execution_count": null,
   "metadata": {},
   "outputs": [],
   "source": []
  },
  {
   "cell_type": "code",
   "execution_count": null,
   "metadata": {},
   "outputs": [],
   "source": []
  }
 ],
 "metadata": {
  "kernelspec": {
   "display_name": "Python 2",
   "language": "python",
   "name": "python2"
  },
  "language_info": {
   "codemirror_mode": {
    "name": "ipython",
    "version": 2
   },
   "file_extension": ".py",
   "mimetype": "text/x-python",
   "name": "python",
   "nbconvert_exporter": "python",
   "pygments_lexer": "ipython2",
   "version": "2.7.14"
  }
 },
 "nbformat": 4,
 "nbformat_minor": 1
}
